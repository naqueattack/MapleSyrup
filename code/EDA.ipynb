{
 "cells": [
  {
   "cell_type": "code",
   "execution_count": 35,
   "id": "f6c1501a-d197-46a9-aa0b-27894b87f186",
   "metadata": {},
   "outputs": [],
   "source": [
    "import pandas as pd\n",
    "import numpy as np"
   ]
  },
  {
   "cell_type": "code",
   "execution_count": 36,
   "id": "83f943db-d919-4f9a-b6c7-dcc8fdc0f1bb",
   "metadata": {},
   "outputs": [],
   "source": [
    "df = pd.read_csv('../data/data.csv')"
   ]
  },
  {
   "cell_type": "code",
   "execution_count": 37,
   "id": "94466e27-c796-4c18-bdd7-e6867a640e31",
   "metadata": {},
   "outputs": [
    {
     "data": {
      "text/html": [
       "<div>\n",
       "<style scoped>\n",
       "    .dataframe tbody tr th:only-of-type {\n",
       "        vertical-align: middle;\n",
       "    }\n",
       "\n",
       "    .dataframe tbody tr th {\n",
       "        vertical-align: top;\n",
       "    }\n",
       "\n",
       "    .dataframe thead th {\n",
       "        text-align: right;\n",
       "    }\n",
       "</style>\n",
       "<table border=\"1\" class=\"dataframe\">\n",
       "  <thead>\n",
       "    <tr style=\"text-align: right;\">\n",
       "      <th></th>\n",
       "      <th>State</th>\n",
       "      <th>Num_of_Taps</th>\n",
       "      <th>Yield_per_Tap</th>\n",
       "      <th>Production</th>\n",
       "      <th>Avg_Price</th>\n",
       "      <th>Value</th>\n",
       "      <th>Retail_Price</th>\n",
       "      <th>Wholesale_Price</th>\n",
       "      <th>Bulk_P_Price</th>\n",
       "      <th>Bulk_G_Price</th>\n",
       "      <th>Date_Open</th>\n",
       "      <th>Date_Closed</th>\n",
       "      <th>Year</th>\n",
       "    </tr>\n",
       "  </thead>\n",
       "  <tbody>\n",
       "    <tr>\n",
       "      <th>0</th>\n",
       "      <td>Maine</td>\n",
       "      <td>1960</td>\n",
       "      <td>0.262</td>\n",
       "      <td>514</td>\n",
       "      <td>38.6</td>\n",
       "      <td>19840</td>\n",
       "      <td>61.4</td>\n",
       "      <td>48.3</td>\n",
       "      <td>3.2</td>\n",
       "      <td>35.1</td>\n",
       "      <td>2/15/2021</td>\n",
       "      <td>4/30/2021</td>\n",
       "      <td>2021</td>\n",
       "    </tr>\n",
       "    <tr>\n",
       "      <th>1</th>\n",
       "      <td>Michigan</td>\n",
       "      <td>550</td>\n",
       "      <td>0.273</td>\n",
       "      <td>150</td>\n",
       "      <td>46.3</td>\n",
       "      <td>6945</td>\n",
       "      <td>47.7</td>\n",
       "      <td>37.6</td>\n",
       "      <td>2.4</td>\n",
       "      <td>26.8</td>\n",
       "      <td>2/1/2021</td>\n",
       "      <td>4/14/2021</td>\n",
       "      <td>2021</td>\n",
       "    </tr>\n",
       "    <tr>\n",
       "      <th>2</th>\n",
       "      <td>New Hampshire</td>\n",
       "      <td>530</td>\n",
       "      <td>0.240</td>\n",
       "      <td>127</td>\n",
       "      <td>64.9</td>\n",
       "      <td>8242</td>\n",
       "      <td>65.5</td>\n",
       "      <td>48.2</td>\n",
       "      <td>2.4</td>\n",
       "      <td>26.4</td>\n",
       "      <td>1/11/2021</td>\n",
       "      <td>4/16/2021</td>\n",
       "      <td>2021</td>\n",
       "    </tr>\n",
       "    <tr>\n",
       "      <th>3</th>\n",
       "      <td>New York</td>\n",
       "      <td>2900</td>\n",
       "      <td>0.223</td>\n",
       "      <td>647</td>\n",
       "      <td>37.8</td>\n",
       "      <td>24457</td>\n",
       "      <td>45.6</td>\n",
       "      <td>41.5</td>\n",
       "      <td>2.4</td>\n",
       "      <td>26.7</td>\n",
       "      <td>1/1/2021</td>\n",
       "      <td>5/4/2021</td>\n",
       "      <td>2021</td>\n",
       "    </tr>\n",
       "    <tr>\n",
       "      <th>4</th>\n",
       "      <td>Pennsylvania</td>\n",
       "      <td>745</td>\n",
       "      <td>0.226</td>\n",
       "      <td>168</td>\n",
       "      <td>36.2</td>\n",
       "      <td>6082</td>\n",
       "      <td>41.3</td>\n",
       "      <td>39.8</td>\n",
       "      <td>2.5</td>\n",
       "      <td>27.6</td>\n",
       "      <td>1/4/2021</td>\n",
       "      <td>4/15/2021</td>\n",
       "      <td>2021</td>\n",
       "    </tr>\n",
       "  </tbody>\n",
       "</table>\n",
       "</div>"
      ],
      "text/plain": [
       "           State  Num_of_Taps  Yield_per_Tap Production  Avg_Price  Value  \\\n",
       "0          Maine         1960          0.262        514       38.6  19840   \n",
       "1       Michigan          550          0.273        150       46.3   6945   \n",
       "2  New Hampshire          530          0.240        127       64.9   8242   \n",
       "3       New York         2900          0.223        647       37.8  24457   \n",
       "4   Pennsylvania          745          0.226        168       36.2   6082   \n",
       "\n",
       "   Retail_Price Wholesale_Price Bulk_P_Price Bulk_G_Price  Date_Open  \\\n",
       "0          61.4            48.3          3.2         35.1  2/15/2021   \n",
       "1          47.7            37.6          2.4         26.8   2/1/2021   \n",
       "2          65.5            48.2          2.4         26.4  1/11/2021   \n",
       "3          45.6            41.5          2.4         26.7   1/1/2021   \n",
       "4          41.3            39.8          2.5         27.6   1/4/2021   \n",
       "\n",
       "  Date_Closed  Year  \n",
       "0   4/30/2021  2021  \n",
       "1   4/14/2021  2021  \n",
       "2   4/16/2021  2021  \n",
       "3    5/4/2021  2021  \n",
       "4   4/15/2021  2021  "
      ]
     },
     "execution_count": 37,
     "metadata": {},
     "output_type": "execute_result"
    }
   ],
   "source": [
    "df.head(5)"
   ]
  },
  {
   "cell_type": "code",
   "execution_count": 38,
   "id": "2d1885ec-4213-4541-9e8d-2d17026c78c9",
   "metadata": {},
   "outputs": [
    {
     "data": {
      "text/plain": [
       "State               object\n",
       "Num_of_Taps          int64\n",
       "Yield_per_Tap      float64\n",
       "Production          object\n",
       "Avg_Price          float64\n",
       "Value               object\n",
       "Retail_Price       float64\n",
       "Wholesale_Price     object\n",
       "Bulk_P_Price        object\n",
       "Bulk_G_Price        object\n",
       "Date_Open           object\n",
       "Date_Closed         object\n",
       "Year                 int64\n",
       "dtype: object"
      ]
     },
     "execution_count": 38,
     "metadata": {},
     "output_type": "execute_result"
    }
   ],
   "source": [
    "df.dtypes"
   ]
  },
  {
   "cell_type": "code",
   "execution_count": 39,
   "id": "8c64aeaf-7000-440a-9ca8-1a20aa65042f",
   "metadata": {},
   "outputs": [],
   "source": [
    "#remove , from strings\n",
    "df = df.replace(',','', regex=True)"
   ]
  },
  {
   "cell_type": "code",
   "execution_count": null,
   "id": "c3ff0066-e3aa-41ce-8efa-b2dc5fba8051",
   "metadata": {},
   "outputs": [],
   "source": [
    "df['Value'] = df['Value'].astype('int')\n",
    "df['Value_per_Tap'] = df['Value']/df['Num_of_Taps']"
   ]
  },
  {
   "cell_type": "code",
   "execution_count": 67,
   "id": "d5721123-f111-44d0-80fc-a711caf0e580",
   "metadata": {},
   "outputs": [
    {
     "data": {
      "text/html": [
       "<div>\n",
       "<style scoped>\n",
       "    .dataframe tbody tr th:only-of-type {\n",
       "        vertical-align: middle;\n",
       "    }\n",
       "\n",
       "    .dataframe tbody tr th {\n",
       "        vertical-align: top;\n",
       "    }\n",
       "\n",
       "    .dataframe thead th {\n",
       "        text-align: right;\n",
       "    }\n",
       "</style>\n",
       "<table border=\"1\" class=\"dataframe\">\n",
       "  <thead>\n",
       "    <tr style=\"text-align: right;\">\n",
       "      <th></th>\n",
       "      <th>Num_of_Taps</th>\n",
       "      <th>Yield_per_Tap</th>\n",
       "      <th>Production</th>\n",
       "      <th>Avg_Price</th>\n",
       "      <th>Value</th>\n",
       "      <th>Retail_Price</th>\n",
       "      <th>Year</th>\n",
       "      <th>Value_per_Tap</th>\n",
       "    </tr>\n",
       "  </thead>\n",
       "  <tbody>\n",
       "    <tr>\n",
       "      <th>count</th>\n",
       "      <td>220.000000</td>\n",
       "      <td>220.000000</td>\n",
       "      <td>220.000000</td>\n",
       "      <td>220.000000</td>\n",
       "      <td>220.000000</td>\n",
       "      <td>220.000000</td>\n",
       "      <td>220.000000</td>\n",
       "      <td>220.000000</td>\n",
       "    </tr>\n",
       "    <tr>\n",
       "      <th>mean</th>\n",
       "      <td>993.081818</td>\n",
       "      <td>0.224750</td>\n",
       "      <td>257.309091</td>\n",
       "      <td>40.539091</td>\n",
       "      <td>8827.763636</td>\n",
       "      <td>42.351818</td>\n",
       "      <td>2010.377273</td>\n",
       "      <td>9.058693</td>\n",
       "    </tr>\n",
       "    <tr>\n",
       "      <th>std</th>\n",
       "      <td>1188.199694</td>\n",
       "      <td>0.061349</td>\n",
       "      <td>380.714295</td>\n",
       "      <td>11.734254</td>\n",
       "      <td>11698.718741</td>\n",
       "      <td>9.115782</td>\n",
       "      <td>6.200488</td>\n",
       "      <td>3.380246</td>\n",
       "    </tr>\n",
       "    <tr>\n",
       "      <th>min</th>\n",
       "      <td>51.000000</td>\n",
       "      <td>0.083000</td>\n",
       "      <td>6.000000</td>\n",
       "      <td>14.200000</td>\n",
       "      <td>290.000000</td>\n",
       "      <td>27.600000</td>\n",
       "      <td>2000.000000</td>\n",
       "      <td>2.699074</td>\n",
       "    </tr>\n",
       "    <tr>\n",
       "      <th>25%</th>\n",
       "      <td>353.750000</td>\n",
       "      <td>0.173750</td>\n",
       "      <td>60.000000</td>\n",
       "      <td>32.275000</td>\n",
       "      <td>2195.250000</td>\n",
       "      <td>34.375000</td>\n",
       "      <td>2005.000000</td>\n",
       "      <td>6.601089</td>\n",
       "    </tr>\n",
       "    <tr>\n",
       "      <th>50%</th>\n",
       "      <td>470.000000</td>\n",
       "      <td>0.223500</td>\n",
       "      <td>115.000000</td>\n",
       "      <td>38.450000</td>\n",
       "      <td>4795.000000</td>\n",
       "      <td>41.700000</td>\n",
       "      <td>2010.500000</td>\n",
       "      <td>8.542982</td>\n",
       "    </tr>\n",
       "    <tr>\n",
       "      <th>75%</th>\n",
       "      <td>1415.500000</td>\n",
       "      <td>0.264500</td>\n",
       "      <td>265.000000</td>\n",
       "      <td>46.900000</td>\n",
       "      <td>8789.250000</td>\n",
       "      <td>47.775000</td>\n",
       "      <td>2016.000000</td>\n",
       "      <td>11.022789</td>\n",
       "    </tr>\n",
       "    <tr>\n",
       "      <th>max</th>\n",
       "      <td>6500.000000</td>\n",
       "      <td>0.410000</td>\n",
       "      <td>2070.000000</td>\n",
       "      <td>87.200000</td>\n",
       "      <td>59700.000000</td>\n",
       "      <td>68.000000</td>\n",
       "      <td>2021.000000</td>\n",
       "      <td>19.494118</td>\n",
       "    </tr>\n",
       "  </tbody>\n",
       "</table>\n",
       "</div>"
      ],
      "text/plain": [
       "       Num_of_Taps  Yield_per_Tap   Production   Avg_Price         Value  \\\n",
       "count   220.000000     220.000000   220.000000  220.000000    220.000000   \n",
       "mean    993.081818       0.224750   257.309091   40.539091   8827.763636   \n",
       "std    1188.199694       0.061349   380.714295   11.734254  11698.718741   \n",
       "min      51.000000       0.083000     6.000000   14.200000    290.000000   \n",
       "25%     353.750000       0.173750    60.000000   32.275000   2195.250000   \n",
       "50%     470.000000       0.223500   115.000000   38.450000   4795.000000   \n",
       "75%    1415.500000       0.264500   265.000000   46.900000   8789.250000   \n",
       "max    6500.000000       0.410000  2070.000000   87.200000  59700.000000   \n",
       "\n",
       "       Retail_Price         Year  Value_per_Tap  \n",
       "count    220.000000   220.000000     220.000000  \n",
       "mean      42.351818  2010.377273       9.058693  \n",
       "std        9.115782     6.200488       3.380246  \n",
       "min       27.600000  2000.000000       2.699074  \n",
       "25%       34.375000  2005.000000       6.601089  \n",
       "50%       41.700000  2010.500000       8.542982  \n",
       "75%       47.775000  2016.000000      11.022789  \n",
       "max       68.000000  2021.000000      19.494118  "
      ]
     },
     "execution_count": 67,
     "metadata": {},
     "output_type": "execute_result"
    }
   ],
   "source": [
    "df.describe()"
   ]
  },
  {
   "cell_type": "code",
   "execution_count": 40,
   "id": "d2612c99-8892-4503-8abb-733577879565",
   "metadata": {},
   "outputs": [],
   "source": [
    "import matplotlib.pyplot as plt"
   ]
  },
  {
   "cell_type": "code",
   "execution_count": 41,
   "id": "7a6ad385-a14e-4ba7-a045-9f7ff36cfb3c",
   "metadata": {},
   "outputs": [
    {
     "data": {
      "text/html": [
       "<div>\n",
       "<style scoped>\n",
       "    .dataframe tbody tr th:only-of-type {\n",
       "        vertical-align: middle;\n",
       "    }\n",
       "\n",
       "    .dataframe tbody tr th {\n",
       "        vertical-align: top;\n",
       "    }\n",
       "\n",
       "    .dataframe thead th {\n",
       "        text-align: right;\n",
       "    }\n",
       "</style>\n",
       "<table border=\"1\" class=\"dataframe\">\n",
       "  <thead>\n",
       "    <tr style=\"text-align: right;\">\n",
       "      <th></th>\n",
       "      <th>Retail_Price</th>\n",
       "    </tr>\n",
       "    <tr>\n",
       "      <th>State</th>\n",
       "      <th></th>\n",
       "    </tr>\n",
       "  </thead>\n",
       "  <tbody>\n",
       "    <tr>\n",
       "      <th>Minnesota</th>\n",
       "      <td>54.166667</td>\n",
       "    </tr>\n",
       "    <tr>\n",
       "      <th>Connecticut</th>\n",
       "      <td>51.263158</td>\n",
       "    </tr>\n",
       "    <tr>\n",
       "      <th>West Virginia</th>\n",
       "      <td>47.333333</td>\n",
       "    </tr>\n",
       "    <tr>\n",
       "      <th>New Hampshire</th>\n",
       "      <td>46.986364</td>\n",
       "    </tr>\n",
       "    <tr>\n",
       "      <th>Maine</th>\n",
       "      <td>46.904545</td>\n",
       "    </tr>\n",
       "    <tr>\n",
       "      <th>Massachusetts</th>\n",
       "      <td>44.973684</td>\n",
       "    </tr>\n",
       "    <tr>\n",
       "      <th>Michigan</th>\n",
       "      <td>41.009091</td>\n",
       "    </tr>\n",
       "    <tr>\n",
       "      <th>Indiana</th>\n",
       "      <td>40.566667</td>\n",
       "    </tr>\n",
       "    <tr>\n",
       "      <th>Vermont</th>\n",
       "      <td>40.554545</td>\n",
       "    </tr>\n",
       "    <tr>\n",
       "      <th>New York</th>\n",
       "      <td>39.663636</td>\n",
       "    </tr>\n",
       "    <tr>\n",
       "      <th>Pennsylvania</th>\n",
       "      <td>37.327273</td>\n",
       "    </tr>\n",
       "    <tr>\n",
       "      <th>Wisconsin</th>\n",
       "      <td>37.309091</td>\n",
       "    </tr>\n",
       "    <tr>\n",
       "      <th>Ohio</th>\n",
       "      <td>36.215789</td>\n",
       "    </tr>\n",
       "  </tbody>\n",
       "</table>\n",
       "</div>"
      ],
      "text/plain": [
       "               Retail_Price\n",
       "State                      \n",
       "Minnesota         54.166667\n",
       "Connecticut       51.263158\n",
       "West Virginia     47.333333\n",
       "New Hampshire     46.986364\n",
       "Maine             46.904545\n",
       "Massachusetts     44.973684\n",
       "Michigan          41.009091\n",
       "Indiana           40.566667\n",
       "Vermont           40.554545\n",
       "New York          39.663636\n",
       "Pennsylvania      37.327273\n",
       "Wisconsin         37.309091\n",
       "Ohio              36.215789"
      ]
     },
     "execution_count": 41,
     "metadata": {},
     "output_type": "execute_result"
    }
   ],
   "source": [
    "df.groupby('State')[['Retail_Price']].mean().sort_values('Retail_Price',ascending=False)"
   ]
  },
  {
   "cell_type": "code",
   "execution_count": 42,
   "id": "63703ab5-fe13-4026-9df8-6caa1c5efb94",
   "metadata": {},
   "outputs": [
    {
     "data": {
      "text/html": [
       "<div>\n",
       "<style scoped>\n",
       "    .dataframe tbody tr th:only-of-type {\n",
       "        vertical-align: middle;\n",
       "    }\n",
       "\n",
       "    .dataframe tbody tr th {\n",
       "        vertical-align: top;\n",
       "    }\n",
       "\n",
       "    .dataframe thead th {\n",
       "        text-align: right;\n",
       "    }\n",
       "</style>\n",
       "<table border=\"1\" class=\"dataframe\">\n",
       "  <thead>\n",
       "    <tr style=\"text-align: right;\">\n",
       "      <th></th>\n",
       "      <th>Yield_per_Tap</th>\n",
       "    </tr>\n",
       "    <tr>\n",
       "      <th>State</th>\n",
       "      <th></th>\n",
       "    </tr>\n",
       "  </thead>\n",
       "  <tbody>\n",
       "    <tr>\n",
       "      <th>Vermont</th>\n",
       "      <td>0.274818</td>\n",
       "    </tr>\n",
       "    <tr>\n",
       "      <th>Maine</th>\n",
       "      <td>0.251227</td>\n",
       "    </tr>\n",
       "    <tr>\n",
       "      <th>Wisconsin</th>\n",
       "      <td>0.244227</td>\n",
       "    </tr>\n",
       "    <tr>\n",
       "      <th>New Hampshire</th>\n",
       "      <td>0.228455</td>\n",
       "    </tr>\n",
       "    <tr>\n",
       "      <th>Ohio</th>\n",
       "      <td>0.226789</td>\n",
       "    </tr>\n",
       "    <tr>\n",
       "      <th>Michigan</th>\n",
       "      <td>0.226045</td>\n",
       "    </tr>\n",
       "    <tr>\n",
       "      <th>New York</th>\n",
       "      <td>0.220545</td>\n",
       "    </tr>\n",
       "    <tr>\n",
       "      <th>Indiana</th>\n",
       "      <td>0.219000</td>\n",
       "    </tr>\n",
       "    <tr>\n",
       "      <th>Massachusetts</th>\n",
       "      <td>0.200789</td>\n",
       "    </tr>\n",
       "    <tr>\n",
       "      <th>Minnesota</th>\n",
       "      <td>0.196333</td>\n",
       "    </tr>\n",
       "    <tr>\n",
       "      <th>Pennsylvania</th>\n",
       "      <td>0.193227</td>\n",
       "    </tr>\n",
       "    <tr>\n",
       "      <th>Connecticut</th>\n",
       "      <td>0.191105</td>\n",
       "    </tr>\n",
       "    <tr>\n",
       "      <th>West Virginia</th>\n",
       "      <td>0.132000</td>\n",
       "    </tr>\n",
       "  </tbody>\n",
       "</table>\n",
       "</div>"
      ],
      "text/plain": [
       "               Yield_per_Tap\n",
       "State                       \n",
       "Vermont             0.274818\n",
       "Maine               0.251227\n",
       "Wisconsin           0.244227\n",
       "New Hampshire       0.228455\n",
       "Ohio                0.226789\n",
       "Michigan            0.226045\n",
       "New York            0.220545\n",
       "Indiana             0.219000\n",
       "Massachusetts       0.200789\n",
       "Minnesota           0.196333\n",
       "Pennsylvania        0.193227\n",
       "Connecticut         0.191105\n",
       "West Virginia       0.132000"
      ]
     },
     "execution_count": 42,
     "metadata": {},
     "output_type": "execute_result"
    }
   ],
   "source": [
    "df.groupby('State')[['Yield_per_Tap']].mean().sort_values('Yield_per_Tap',ascending=False)"
   ]
  },
  {
   "cell_type": "code",
   "execution_count": 43,
   "id": "f9f8e7fe-6aeb-4577-ba61-bbe33959c947",
   "metadata": {},
   "outputs": [],
   "source": []
  },
  {
   "cell_type": "code",
   "execution_count": 44,
   "id": "57f1a8a9-bceb-4fa5-abdd-bb43060c65a8",
   "metadata": {},
   "outputs": [
    {
     "data": {
      "text/html": [
       "<div>\n",
       "<style scoped>\n",
       "    .dataframe tbody tr th:only-of-type {\n",
       "        vertical-align: middle;\n",
       "    }\n",
       "\n",
       "    .dataframe tbody tr th {\n",
       "        vertical-align: top;\n",
       "    }\n",
       "\n",
       "    .dataframe thead th {\n",
       "        text-align: right;\n",
       "    }\n",
       "</style>\n",
       "<table border=\"1\" class=\"dataframe\">\n",
       "  <thead>\n",
       "    <tr style=\"text-align: right;\">\n",
       "      <th></th>\n",
       "      <th>Value_per_Tap</th>\n",
       "    </tr>\n",
       "    <tr>\n",
       "      <th>State</th>\n",
       "      <th></th>\n",
       "    </tr>\n",
       "  </thead>\n",
       "  <tbody>\n",
       "    <tr>\n",
       "      <th>Minnesota</th>\n",
       "      <td>12.688965</td>\n",
       "    </tr>\n",
       "    <tr>\n",
       "      <th>Connecticut</th>\n",
       "      <td>11.973965</td>\n",
       "    </tr>\n",
       "    <tr>\n",
       "      <th>New Hampshire</th>\n",
       "      <td>11.554933</td>\n",
       "    </tr>\n",
       "    <tr>\n",
       "      <th>Indiana</th>\n",
       "      <td>10.985714</td>\n",
       "    </tr>\n",
       "    <tr>\n",
       "      <th>Massachusetts</th>\n",
       "      <td>10.027047</td>\n",
       "    </tr>\n",
       "    <tr>\n",
       "      <th>Michigan</th>\n",
       "      <td>9.801318</td>\n",
       "    </tr>\n",
       "    <tr>\n",
       "      <th>Vermont</th>\n",
       "      <td>8.554750</td>\n",
       "    </tr>\n",
       "    <tr>\n",
       "      <th>Ohio</th>\n",
       "      <td>8.548439</td>\n",
       "    </tr>\n",
       "    <tr>\n",
       "      <th>Wisconsin</th>\n",
       "      <td>8.215903</td>\n",
       "    </tr>\n",
       "    <tr>\n",
       "      <th>New York</th>\n",
       "      <td>8.025964</td>\n",
       "    </tr>\n",
       "    <tr>\n",
       "      <th>Maine</th>\n",
       "      <td>7.452913</td>\n",
       "    </tr>\n",
       "    <tr>\n",
       "      <th>Pennsylvania</th>\n",
       "      <td>6.602498</td>\n",
       "    </tr>\n",
       "    <tr>\n",
       "      <th>West Virginia</th>\n",
       "      <td>5.622265</td>\n",
       "    </tr>\n",
       "  </tbody>\n",
       "</table>\n",
       "</div>"
      ],
      "text/plain": [
       "               Value_per_Tap\n",
       "State                       \n",
       "Minnesota          12.688965\n",
       "Connecticut        11.973965\n",
       "New Hampshire      11.554933\n",
       "Indiana            10.985714\n",
       "Massachusetts      10.027047\n",
       "Michigan            9.801318\n",
       "Vermont             8.554750\n",
       "Ohio                8.548439\n",
       "Wisconsin           8.215903\n",
       "New York            8.025964\n",
       "Maine               7.452913\n",
       "Pennsylvania        6.602498\n",
       "West Virginia       5.622265"
      ]
     },
     "execution_count": 44,
     "metadata": {},
     "output_type": "execute_result"
    }
   ],
   "source": [
    "df.groupby('State')[['Value_per_Tap']].mean().sort_values('Value_per_Tap',ascending=False)"
   ]
  },
  {
   "cell_type": "code",
   "execution_count": 59,
   "id": "bd18b879-2bb8-4e79-ac13-ceee7499461c",
   "metadata": {},
   "outputs": [],
   "source": [
    "df['Production'] = df['Production'].astype('int')"
   ]
  },
  {
   "cell_type": "code",
   "execution_count": 63,
   "id": "d3111e73-e6a9-4c7f-b885-d5c3724b6b18",
   "metadata": {},
   "outputs": [
    {
     "data": {
      "text/plain": [
       "[<matplotlib.lines.Line2D at 0x193ef3c78e0>]"
      ]
     },
     "execution_count": 63,
     "metadata": {},
     "output_type": "execute_result"
    },
    {
     "data": {
      "image/png": "[encoded data removed]",
      "text/plain": [
       "<Figure size 640x480 with 1 Axes>"
      ]
     },
     "metadata": {},
     "output_type": "display_data"
    }
   ],
   "source": [
    "#Average retail price by year\n",
    "plt.plot(df.groupby('Year')['Retail_Price'].mean())"
   ]
  },
  {
   "cell_type": "code",
   "execution_count": 64,
   "id": "868c8db6-ec83-40e3-90a7-de01d0db0fd1",
   "metadata": {},
   "outputs": [
    {
     "data": {
      "text/plain": [
       "[<matplotlib.lines.Line2D at 0x193ef5c2460>]"
      ]
     },
     "execution_count": 64,
     "metadata": {},
     "output_type": "execute_result"
    },
    {
     "data": {
      "image/png": "[encoded data removed]",
      "text/plain": [
       "<Figure size 640x480 with 1 Axes>"
      ]
     },
     "metadata": {},
     "output_type": "display_data"
    }
   ],
   "source": [
    "#Total Production by year\n",
    "plt.plot(df.groupby('Year')['Production'].sum())"
   ]
  },
  {
   "cell_type": "code",
   "execution_count": 68,
   "id": "b1ddfeed-3215-4801-8a16-0773dbfde6ed",
   "metadata": {},
   "outputs": [
    {
     "data": {
      "text/plain": [
       "[<matplotlib.lines.Line2D at 0x193ef4acd30>]"
      ]
     },
     "execution_count": 68,
     "metadata": {},
     "output_type": "execute_result"
    },
    {
     "data": {
      "image/png": "[encoded data removed]",
      "text/plain": [
       "<Figure size 640x480 with 1 Axes>"
      ]
     },
     "metadata": {},
     "output_type": "display_data"
    }
   ],
   "source": [
    "#Yield per tap average\n",
    "plt.plot(df.groupby('Year')['Yield_per_Tap'].mean())\n"
   ]
  },
  {
   "cell_type": "code",
   "execution_count": 70,
   "id": "c8dee91f-861a-4dbe-800e-6d21cfcdb2bb",
   "metadata": {},
   "outputs": [
    {
     "data": {
      "text/plain": [
       "[<matplotlib.lines.Line2D at 0x193ef586190>]"
      ]
     },
     "execution_count": 70,
     "metadata": {},
     "output_type": "execute_result"
    },
    {
     "data": {
      "image/png": "[encoded data removed]",
      "text/plain": [
       "<Figure size 640x480 with 1 Axes>"
      ]
     },
     "metadata": {},
     "output_type": "display_data"
    }
   ],
   "source": [
    "#Num of Taps\n",
    "plt.plot(df.groupby('Year')['Num_of_Taps'].sum())"
   ]
  },
  {
   "cell_type": "code",
   "execution_count": null,
   "id": "e7e5638a-b669-4c42-8612-f9d31daf3ebe",
   "metadata": {},
   "outputs": [],
   "source": []
  },
  {
   "cell_type": "code",
   "execution_count": null,
   "id": "8bd976bd-7496-484e-8eb7-46ff8a6ae663",
   "metadata": {},
   "outputs": [],
   "source": [
    "df = df.set_index('Year')\n",
    "#group data by product and display sales as line chart\n",
    "df.groupby('State')['Production'].plot(legend=True)"
   ]
  }
 ],
 "metadata": {
  "kernelspec": {
   "display_name": "new_env",
   "language": "python",
   "name": "new_env"
  },
  "language_info": {
   "codemirror_mode": {
    "name": "ipython",
    "version": 3
   },
   "file_extension": ".py",
   "mimetype": "text/x-python",
   "name": "python",
   "nbconvert_exporter": "python",
   "pygments_lexer": "ipython3",
   "version": "3.9.16"
  }
 },
 "nbformat": 4,
 "nbformat_minor": 5
}
